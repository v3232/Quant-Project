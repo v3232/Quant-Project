{
 "cells": [
  {
   "cell_type": "code",
   "execution_count": 7,
   "id": "e875218a-50af-44b1-ab1b-5af039d351d3",
   "metadata": {
    "tags": []
   },
   "outputs": [],
   "source": [
    "# Import dependencies\n",
    "import pandas as pd\n",
    "import numpy as np\n",
    "import os\n",
    "from dotenv import load_dotenv\n",
    "import alpaca_trade_api as trade_api\n"
   ]
  },
  {
   "cell_type": "code",
   "execution_count": 8,
   "id": "cbb8405e-2fe3-4eb9-9df3-197c3fcc1ad3",
   "metadata": {
    "tags": []
   },
   "outputs": [
    {
     "data": {
      "text/plain": [
       "True"
      ]
     },
     "execution_count": 8,
     "metadata": {},
     "output_type": "execute_result"
    }
   ],
   "source": [
    "# laod the .env variables to the notebook\n",
    "load_dotenv()"
   ]
  },
  {
   "cell_type": "markdown",
   "id": "76118883-f680-4099-9e88-d39782614ff3",
   "metadata": {},
   "source": [
    "## Part 1 - Data Collection"
   ]
  },
  {
   "cell_type": "markdown",
   "id": "2c49948d-163d-49bd-bb3e-096b85e5bc88",
   "metadata": {
    "tags": []
   },
   "source": [
    "### Collect the historical price data using alpaca API"
   ]
  },
  {
   "cell_type": "code",
   "execution_count": 9,
   "id": "9eb6fdb2-23c7-4f66-9f23-80653e2dabec",
   "metadata": {
    "tags": []
   },
   "outputs": [],
   "source": [
    "# Import the keys required to draw data from the API\n",
    "alpaca_secret_key = os.getenv('ALPACA_SECRET_KEY') \n",
    "alpaca_api_key = os.getenv('ALPACA_API_KEYID')\n",
    "\n",
    "# Create an API object\n",
    "alpaca = trade_api.REST(alpaca_api_key,\n",
    "                       alpaca_secret_key,\n",
    "                       api_version = 'v2')"
   ]
  },
  {
   "cell_type": "code",
   "execution_count": 16,
   "id": "b58c7131-77b0-4af9-876c-a91c1fe3bd2a",
   "metadata": {
    "tags": []
   },
   "outputs": [
    {
     "data": {
      "text/html": [
       "<div>\n",
       "<style scoped>\n",
       "    .dataframe tbody tr th:only-of-type {\n",
       "        vertical-align: middle;\n",
       "    }\n",
       "\n",
       "    .dataframe tbody tr th {\n",
       "        vertical-align: top;\n",
       "    }\n",
       "\n",
       "    .dataframe thead th {\n",
       "        text-align: right;\n",
       "    }\n",
       "</style>\n",
       "<table border=\"1\" class=\"dataframe\">\n",
       "  <thead>\n",
       "    <tr style=\"text-align: right;\">\n",
       "      <th></th>\n",
       "      <th>close</th>\n",
       "      <th>high</th>\n",
       "      <th>low</th>\n",
       "      <th>trade_count</th>\n",
       "      <th>open</th>\n",
       "      <th>volume</th>\n",
       "      <th>vwap</th>\n",
       "    </tr>\n",
       "    <tr>\n",
       "      <th>Date</th>\n",
       "      <th></th>\n",
       "      <th></th>\n",
       "      <th></th>\n",
       "      <th></th>\n",
       "      <th></th>\n",
       "      <th></th>\n",
       "      <th></th>\n",
       "    </tr>\n",
       "  </thead>\n",
       "  <tbody>\n",
       "    <tr>\n",
       "      <th>2022-05-31 08:00:00+00:00</th>\n",
       "      <td>150.0100</td>\n",
       "      <td>151.0000</td>\n",
       "      <td>148.8900</td>\n",
       "      <td>2814</td>\n",
       "      <td>150.00</td>\n",
       "      <td>100023</td>\n",
       "      <td>149.774887</td>\n",
       "    </tr>\n",
       "    <tr>\n",
       "      <th>2022-05-31 09:00:00+00:00</th>\n",
       "      <td>149.0500</td>\n",
       "      <td>150.0000</td>\n",
       "      <td>148.9900</td>\n",
       "      <td>1943</td>\n",
       "      <td>150.00</td>\n",
       "      <td>71538</td>\n",
       "      <td>149.262514</td>\n",
       "    </tr>\n",
       "    <tr>\n",
       "      <th>2022-05-31 10:00:00+00:00</th>\n",
       "      <td>149.2300</td>\n",
       "      <td>149.3700</td>\n",
       "      <td>148.7300</td>\n",
       "      <td>1139</td>\n",
       "      <td>149.01</td>\n",
       "      <td>52145</td>\n",
       "      <td>149.007077</td>\n",
       "    </tr>\n",
       "    <tr>\n",
       "      <th>2022-05-31 11:00:00+00:00</th>\n",
       "      <td>149.5000</td>\n",
       "      <td>149.7800</td>\n",
       "      <td>149.1800</td>\n",
       "      <td>2972</td>\n",
       "      <td>149.25</td>\n",
       "      <td>147931</td>\n",
       "      <td>149.450164</td>\n",
       "    </tr>\n",
       "    <tr>\n",
       "      <th>2022-05-31 12:00:00+00:00</th>\n",
       "      <td>148.6898</td>\n",
       "      <td>150.6900</td>\n",
       "      <td>148.5900</td>\n",
       "      <td>8864</td>\n",
       "      <td>149.44</td>\n",
       "      <td>707354</td>\n",
       "      <td>149.125127</td>\n",
       "    </tr>\n",
       "    <tr>\n",
       "      <th>...</th>\n",
       "      <td>...</td>\n",
       "      <td>...</td>\n",
       "      <td>...</td>\n",
       "      <td>...</td>\n",
       "      <td>...</td>\n",
       "      <td>...</td>\n",
       "      <td>...</td>\n",
       "    </tr>\n",
       "    <tr>\n",
       "      <th>2025-05-30 19:00:00+00:00</th>\n",
       "      <td>200.6500</td>\n",
       "      <td>201.9600</td>\n",
       "      <td>199.2889</td>\n",
       "      <td>154879</td>\n",
       "      <td>199.32</td>\n",
       "      <td>15011350</td>\n",
       "      <td>200.734151</td>\n",
       "    </tr>\n",
       "    <tr>\n",
       "      <th>2025-05-30 20:00:00+00:00</th>\n",
       "      <td>200.6100</td>\n",
       "      <td>201.1000</td>\n",
       "      <td>200.2000</td>\n",
       "      <td>4475</td>\n",
       "      <td>200.65</td>\n",
       "      <td>29375065</td>\n",
       "      <td>200.847757</td>\n",
       "    </tr>\n",
       "    <tr>\n",
       "      <th>2025-05-30 21:00:00+00:00</th>\n",
       "      <td>200.6400</td>\n",
       "      <td>200.6500</td>\n",
       "      <td>200.4000</td>\n",
       "      <td>700</td>\n",
       "      <td>200.60</td>\n",
       "      <td>162112</td>\n",
       "      <td>200.508232</td>\n",
       "    </tr>\n",
       "    <tr>\n",
       "      <th>2025-05-30 22:00:00+00:00</th>\n",
       "      <td>200.4000</td>\n",
       "      <td>200.6500</td>\n",
       "      <td>200.4000</td>\n",
       "      <td>507</td>\n",
       "      <td>200.60</td>\n",
       "      <td>25292</td>\n",
       "      <td>200.484558</td>\n",
       "    </tr>\n",
       "    <tr>\n",
       "      <th>2025-05-30 23:00:00+00:00</th>\n",
       "      <td>200.2900</td>\n",
       "      <td>200.4393</td>\n",
       "      <td>200.1400</td>\n",
       "      <td>668</td>\n",
       "      <td>200.40</td>\n",
       "      <td>40399</td>\n",
       "      <td>200.260422</td>\n",
       "    </tr>\n",
       "  </tbody>\n",
       "</table>\n",
       "<p>11929 rows × 7 columns</p>\n",
       "</div>"
      ],
      "text/plain": [
       "                              close      high       low  trade_count    open  \\\n",
       "Date                                                                           \n",
       "2022-05-31 08:00:00+00:00  150.0100  151.0000  148.8900         2814  150.00   \n",
       "2022-05-31 09:00:00+00:00  149.0500  150.0000  148.9900         1943  150.00   \n",
       "2022-05-31 10:00:00+00:00  149.2300  149.3700  148.7300         1139  149.01   \n",
       "2022-05-31 11:00:00+00:00  149.5000  149.7800  149.1800         2972  149.25   \n",
       "2022-05-31 12:00:00+00:00  148.6898  150.6900  148.5900         8864  149.44   \n",
       "...                             ...       ...       ...          ...     ...   \n",
       "2025-05-30 19:00:00+00:00  200.6500  201.9600  199.2889       154879  199.32   \n",
       "2025-05-30 20:00:00+00:00  200.6100  201.1000  200.2000         4475  200.65   \n",
       "2025-05-30 21:00:00+00:00  200.6400  200.6500  200.4000          700  200.60   \n",
       "2025-05-30 22:00:00+00:00  200.4000  200.6500  200.4000          507  200.60   \n",
       "2025-05-30 23:00:00+00:00  200.2900  200.4393  200.1400          668  200.40   \n",
       "\n",
       "                             volume        vwap  \n",
       "Date                                             \n",
       "2022-05-31 08:00:00+00:00    100023  149.774887  \n",
       "2022-05-31 09:00:00+00:00     71538  149.262514  \n",
       "2022-05-31 10:00:00+00:00     52145  149.007077  \n",
       "2022-05-31 11:00:00+00:00    147931  149.450164  \n",
       "2022-05-31 12:00:00+00:00    707354  149.125127  \n",
       "...                             ...         ...  \n",
       "2025-05-30 19:00:00+00:00  15011350  200.734151  \n",
       "2025-05-30 20:00:00+00:00  29375065  200.847757  \n",
       "2025-05-30 21:00:00+00:00    162112  200.508232  \n",
       "2025-05-30 22:00:00+00:00     25292  200.484558  \n",
       "2025-05-30 23:00:00+00:00     40399  200.260422  \n",
       "\n",
       "[11929 rows x 7 columns]"
      ]
     },
     "execution_count": 16,
     "metadata": {},
     "output_type": "execute_result"
    }
   ],
   "source": [
    "# Set up the start and end dates in ISO format\n",
    "start = pd.Timestamp('2022-05-31', tz = 'America/New_York').isoformat()\n",
    "end = pd.Timestamp('2025-05-31', tz = 'America/New_York').isoformat()\n",
    "\n",
    "# Set the ticker\n",
    "ticker = 'AAPL'\n",
    "\n",
    "# Set the timeframe to 1 hour for the API\n",
    "timeframe = '1Hour'\n",
    "\n",
    "# Get the current closing prices of the stock\n",
    "data = alpaca.get_bars(ticker,\n",
    "                           timeframe,\n",
    "                           start = start,\n",
    "                           end = end).df\n",
    "\n",
    "# Rename the index\n",
    "data.index.rename('Date', inplace = True)\n",
    "\n",
    "# Display data acquired\n",
    "data"
   ]
  },
  {
   "cell_type": "code",
   "execution_count": null,
   "id": "c0ec7d73-35ea-4e36-8f96-71bf50dc2109",
   "metadata": {},
   "outputs": [],
   "source": []
  }
 ],
 "metadata": {
  "kernelspec": {
   "display_name": "Python 3 (ipykernel)",
   "language": "python",
   "name": "python3"
  },
  "language_info": {
   "codemirror_mode": {
    "name": "ipython",
    "version": 3
   },
   "file_extension": ".py",
   "mimetype": "text/x-python",
   "name": "python",
   "nbconvert_exporter": "python",
   "pygments_lexer": "ipython3",
   "version": "3.10.13"
  }
 },
 "nbformat": 4,
 "nbformat_minor": 5
}
