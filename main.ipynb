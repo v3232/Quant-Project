{
 "cells": [
  {
   "cell_type": "code",
   "execution_count": 1,
   "id": "e875218a-50af-44b1-ab1b-5af039d351d3",
   "metadata": {
    "tags": []
   },
   "outputs": [],
   "source": [
    "# Import dependencies\n",
    "import pandas as pd\n",
    "import numpy as np\n",
    "import os\n",
    "from dotenv import load_dotenv\n",
    "import alpaca_trade_api as trade_api\n",
    "from sklearn.decomposition import PCA\n",
    "from sklearn.preprocessing import StandardScaler\n",
    "from sklearn.model_selection import train_test_split\n",
    "from sklearn.ensemble import GradientBoostingClassifier\n",
    "from sklearn.metrics import classification_report\n"
   ]
  },
  {
   "cell_type": "code",
   "execution_count": 2,
   "id": "cbb8405e-2fe3-4eb9-9df3-197c3fcc1ad3",
   "metadata": {
    "tags": []
   },
   "outputs": [
    {
     "data": {
      "text/plain": [
       "True"
      ]
     },
     "execution_count": 2,
     "metadata": {},
     "output_type": "execute_result"
    }
   ],
   "source": [
    "# laod the .env variables to the notebook\n",
    "load_dotenv()"
   ]
  },
  {
   "cell_type": "markdown",
   "id": "76118883-f680-4099-9e88-d39782614ff3",
   "metadata": {},
   "source": [
    "## Part 1 - Data Collection"
   ]
  },
  {
   "cell_type": "markdown",
   "id": "2c49948d-163d-49bd-bb3e-096b85e5bc88",
   "metadata": {
    "tags": []
   },
   "source": [
    "### Collect the historical price data using alpaca API"
   ]
  },
  {
   "cell_type": "code",
   "execution_count": 3,
   "id": "9eb6fdb2-23c7-4f66-9f23-80653e2dabec",
   "metadata": {
    "tags": []
   },
   "outputs": [],
   "source": [
    "# Import the keys required to draw data from the API\n",
    "alpaca_secret_key = os.getenv('ALPACA_SECRET_KEY') \n",
    "alpaca_api_key = os.getenv('ALPACA_API_KEYID')\n",
    "\n",
    "# Create an API object\n",
    "alpaca = trade_api.REST(alpaca_api_key,\n",
    "                       alpaca_secret_key,\n",
    "                       api_version = 'v2')"
   ]
  },
  {
   "cell_type": "code",
   "execution_count": 4,
   "id": "b58c7131-77b0-4af9-876c-a91c1fe3bd2a",
   "metadata": {
    "tags": []
   },
   "outputs": [
    {
     "data": {
      "text/html": [
       "<div>\n",
       "<style scoped>\n",
       "    .dataframe tbody tr th:only-of-type {\n",
       "        vertical-align: middle;\n",
       "    }\n",
       "\n",
       "    .dataframe tbody tr th {\n",
       "        vertical-align: top;\n",
       "    }\n",
       "\n",
       "    .dataframe thead th {\n",
       "        text-align: right;\n",
       "    }\n",
       "</style>\n",
       "<table border=\"1\" class=\"dataframe\">\n",
       "  <thead>\n",
       "    <tr style=\"text-align: right;\">\n",
       "      <th></th>\n",
       "      <th>close</th>\n",
       "      <th>high</th>\n",
       "      <th>low</th>\n",
       "      <th>trade_count</th>\n",
       "      <th>open</th>\n",
       "      <th>volume</th>\n",
       "      <th>vwap</th>\n",
       "    </tr>\n",
       "    <tr>\n",
       "      <th>Date</th>\n",
       "      <th></th>\n",
       "      <th></th>\n",
       "      <th></th>\n",
       "      <th></th>\n",
       "      <th></th>\n",
       "      <th></th>\n",
       "      <th></th>\n",
       "    </tr>\n",
       "  </thead>\n",
       "  <tbody>\n",
       "    <tr>\n",
       "      <th>2022-05-31 08:00:00+00:00</th>\n",
       "      <td>150.0100</td>\n",
       "      <td>151.0000</td>\n",
       "      <td>148.8900</td>\n",
       "      <td>2814</td>\n",
       "      <td>150.00</td>\n",
       "      <td>100023</td>\n",
       "      <td>149.774887</td>\n",
       "    </tr>\n",
       "    <tr>\n",
       "      <th>2022-05-31 09:00:00+00:00</th>\n",
       "      <td>149.0500</td>\n",
       "      <td>150.0000</td>\n",
       "      <td>148.9900</td>\n",
       "      <td>1943</td>\n",
       "      <td>150.00</td>\n",
       "      <td>71538</td>\n",
       "      <td>149.262514</td>\n",
       "    </tr>\n",
       "    <tr>\n",
       "      <th>2022-05-31 10:00:00+00:00</th>\n",
       "      <td>149.2300</td>\n",
       "      <td>149.3700</td>\n",
       "      <td>148.7300</td>\n",
       "      <td>1139</td>\n",
       "      <td>149.01</td>\n",
       "      <td>52145</td>\n",
       "      <td>149.007077</td>\n",
       "    </tr>\n",
       "    <tr>\n",
       "      <th>2022-05-31 11:00:00+00:00</th>\n",
       "      <td>149.5000</td>\n",
       "      <td>149.7800</td>\n",
       "      <td>149.1800</td>\n",
       "      <td>2972</td>\n",
       "      <td>149.25</td>\n",
       "      <td>147931</td>\n",
       "      <td>149.450164</td>\n",
       "    </tr>\n",
       "    <tr>\n",
       "      <th>2022-05-31 12:00:00+00:00</th>\n",
       "      <td>148.6898</td>\n",
       "      <td>150.6900</td>\n",
       "      <td>148.5900</td>\n",
       "      <td>8864</td>\n",
       "      <td>149.44</td>\n",
       "      <td>707354</td>\n",
       "      <td>149.125127</td>\n",
       "    </tr>\n",
       "    <tr>\n",
       "      <th>...</th>\n",
       "      <td>...</td>\n",
       "      <td>...</td>\n",
       "      <td>...</td>\n",
       "      <td>...</td>\n",
       "      <td>...</td>\n",
       "      <td>...</td>\n",
       "      <td>...</td>\n",
       "    </tr>\n",
       "    <tr>\n",
       "      <th>2025-05-30 19:00:00+00:00</th>\n",
       "      <td>200.6500</td>\n",
       "      <td>201.9600</td>\n",
       "      <td>199.2889</td>\n",
       "      <td>154879</td>\n",
       "      <td>199.32</td>\n",
       "      <td>15011350</td>\n",
       "      <td>200.734151</td>\n",
       "    </tr>\n",
       "    <tr>\n",
       "      <th>2025-05-30 20:00:00+00:00</th>\n",
       "      <td>200.6100</td>\n",
       "      <td>201.1000</td>\n",
       "      <td>200.2000</td>\n",
       "      <td>4475</td>\n",
       "      <td>200.65</td>\n",
       "      <td>29375065</td>\n",
       "      <td>200.847757</td>\n",
       "    </tr>\n",
       "    <tr>\n",
       "      <th>2025-05-30 21:00:00+00:00</th>\n",
       "      <td>200.6400</td>\n",
       "      <td>200.6500</td>\n",
       "      <td>200.4000</td>\n",
       "      <td>700</td>\n",
       "      <td>200.60</td>\n",
       "      <td>162112</td>\n",
       "      <td>200.508232</td>\n",
       "    </tr>\n",
       "    <tr>\n",
       "      <th>2025-05-30 22:00:00+00:00</th>\n",
       "      <td>200.4000</td>\n",
       "      <td>200.6500</td>\n",
       "      <td>200.4000</td>\n",
       "      <td>507</td>\n",
       "      <td>200.60</td>\n",
       "      <td>25292</td>\n",
       "      <td>200.484558</td>\n",
       "    </tr>\n",
       "    <tr>\n",
       "      <th>2025-05-30 23:00:00+00:00</th>\n",
       "      <td>200.2900</td>\n",
       "      <td>200.4393</td>\n",
       "      <td>200.1400</td>\n",
       "      <td>668</td>\n",
       "      <td>200.40</td>\n",
       "      <td>40399</td>\n",
       "      <td>200.260422</td>\n",
       "    </tr>\n",
       "  </tbody>\n",
       "</table>\n",
       "<p>11929 rows × 7 columns</p>\n",
       "</div>"
      ],
      "text/plain": [
       "                              close      high       low  trade_count    open  \\\n",
       "Date                                                                           \n",
       "2022-05-31 08:00:00+00:00  150.0100  151.0000  148.8900         2814  150.00   \n",
       "2022-05-31 09:00:00+00:00  149.0500  150.0000  148.9900         1943  150.00   \n",
       "2022-05-31 10:00:00+00:00  149.2300  149.3700  148.7300         1139  149.01   \n",
       "2022-05-31 11:00:00+00:00  149.5000  149.7800  149.1800         2972  149.25   \n",
       "2022-05-31 12:00:00+00:00  148.6898  150.6900  148.5900         8864  149.44   \n",
       "...                             ...       ...       ...          ...     ...   \n",
       "2025-05-30 19:00:00+00:00  200.6500  201.9600  199.2889       154879  199.32   \n",
       "2025-05-30 20:00:00+00:00  200.6100  201.1000  200.2000         4475  200.65   \n",
       "2025-05-30 21:00:00+00:00  200.6400  200.6500  200.4000          700  200.60   \n",
       "2025-05-30 22:00:00+00:00  200.4000  200.6500  200.4000          507  200.60   \n",
       "2025-05-30 23:00:00+00:00  200.2900  200.4393  200.1400          668  200.40   \n",
       "\n",
       "                             volume        vwap  \n",
       "Date                                             \n",
       "2022-05-31 08:00:00+00:00    100023  149.774887  \n",
       "2022-05-31 09:00:00+00:00     71538  149.262514  \n",
       "2022-05-31 10:00:00+00:00     52145  149.007077  \n",
       "2022-05-31 11:00:00+00:00    147931  149.450164  \n",
       "2022-05-31 12:00:00+00:00    707354  149.125127  \n",
       "...                             ...         ...  \n",
       "2025-05-30 19:00:00+00:00  15011350  200.734151  \n",
       "2025-05-30 20:00:00+00:00  29375065  200.847757  \n",
       "2025-05-30 21:00:00+00:00    162112  200.508232  \n",
       "2025-05-30 22:00:00+00:00     25292  200.484558  \n",
       "2025-05-30 23:00:00+00:00     40399  200.260422  \n",
       "\n",
       "[11929 rows x 7 columns]"
      ]
     },
     "execution_count": 4,
     "metadata": {},
     "output_type": "execute_result"
    }
   ],
   "source": [
    "# Set up the start and end dates in ISO format\n",
    "start = pd.Timestamp('2022-05-31', tz = 'America/New_York').isoformat()\n",
    "end = pd.Timestamp('2025-05-31', tz = 'America/New_York').isoformat()\n",
    "\n",
    "# Set the ticker\n",
    "ticker = 'AAPL'\n",
    "\n",
    "# Set the timeframe to 1 hour for the API\n",
    "timeframe = '1Hour'\n",
    "\n",
    "# Get the current closing prices of the stock\n",
    "df_prices = alpaca.get_bars(ticker,\n",
    "                           timeframe,\n",
    "                           start = start,\n",
    "                           end = end).df\n",
    "\n",
    "# Rename the index\n",
    "df_prices.index.rename('Date', inplace = True)\n",
    "\n",
    "# Display data acquired\n",
    "df_prices"
   ]
  },
  {
   "cell_type": "markdown",
   "id": "1e039161-5d4e-4a98-8d65-8b8b6e842e1a",
   "metadata": {},
   "source": [
    "## Part 2 - Feature Engineering\n",
    "\n",
    "Some technical indicators are to be calculated to use as features to be fed to the machine learining model\n",
    "\n",
    "These indicators include:\n",
    "\n",
    "- 50-day and 200-day Simple Moving Averages (SMA): Trend-following indicators.\n",
    "\n",
    "- Relative Strength Index (RSI): Measures the speed and change of price movements.\n",
    "\n",
    "- Average True Range (ATR): Measures volatility."
   ]
  },
  {
   "cell_type": "code",
   "execution_count": 5,
   "id": "acbce41a-9b6a-4626-88de-45081409b30e",
   "metadata": {
    "tags": []
   },
   "outputs": [],
   "source": [
    "# Calculate moving averages\n",
    "df_prices['SMA_50'] = df_prices['close'].rolling(50).mean()\n",
    "df_prices['SMA_200'] = df_prices['close'].rolling(200).mean()\n"
   ]
  },
  {
   "cell_type": "code",
   "execution_count": 6,
   "id": "316db191-9ddd-4c54-a20f-c6d41b26fce0",
   "metadata": {
    "tags": []
   },
   "outputs": [],
   "source": [
    "# Calculate Relative Strength Index (RSI)\n",
    "delta = df_prices['close'].diff()\n",
    "gains = delta.where(delta > 0, 0)\n",
    "losses = -delta.where(delta < 0, 0)\n",
    "\n",
    "gains_mean = gains.rolling(14).mean()\n",
    "losses_mean = losses.rolling(14).mean()\n",
    "\n",
    "rs = gains_mean / losses_mean\n",
    "df_prices['RSI'] = 100 - (100 / (1 + rs))\n"
   ]
  },
  {
   "cell_type": "code",
   "execution_count": 7,
   "id": "04ae7871-1bee-4611-aa60-4039f3b57cd5",
   "metadata": {
    "tags": []
   },
   "outputs": [],
   "source": [
    "# Calculate the 14-day Average True Range (ATR) for volatility\n",
    "high_low = df_prices['close'] - df_prices['low']\n",
    "high_close = df_prices['high'] - (df_prices['close'].shift()).abs()\n",
    "low_close = df_prices['low'] - (df_prices['close'].shift()).abs()\n",
    "\n",
    "tr = pd.concat([high_low, high_close, low_close], axis = 1)\n",
    "df_prices['ATR'] = tr.max(axis = 1).rolling(14).mean()\n"
   ]
  },
  {
   "cell_type": "code",
   "execution_count": 8,
   "id": "6f5b548e-aac8-4927-8007-72296a96ff11",
   "metadata": {
    "tags": []
   },
   "outputs": [
    {
     "data": {
      "text/html": [
       "<div>\n",
       "<style scoped>\n",
       "    .dataframe tbody tr th:only-of-type {\n",
       "        vertical-align: middle;\n",
       "    }\n",
       "\n",
       "    .dataframe tbody tr th {\n",
       "        vertical-align: top;\n",
       "    }\n",
       "\n",
       "    .dataframe thead th {\n",
       "        text-align: right;\n",
       "    }\n",
       "</style>\n",
       "<table border=\"1\" class=\"dataframe\">\n",
       "  <thead>\n",
       "    <tr style=\"text-align: right;\">\n",
       "      <th></th>\n",
       "      <th>close</th>\n",
       "      <th>high</th>\n",
       "      <th>low</th>\n",
       "      <th>trade_count</th>\n",
       "      <th>open</th>\n",
       "      <th>volume</th>\n",
       "      <th>vwap</th>\n",
       "      <th>SMA_50</th>\n",
       "      <th>SMA_200</th>\n",
       "      <th>RSI</th>\n",
       "      <th>ATR</th>\n",
       "    </tr>\n",
       "    <tr>\n",
       "      <th>Date</th>\n",
       "      <th></th>\n",
       "      <th></th>\n",
       "      <th></th>\n",
       "      <th></th>\n",
       "      <th></th>\n",
       "      <th></th>\n",
       "      <th></th>\n",
       "      <th></th>\n",
       "      <th></th>\n",
       "      <th></th>\n",
       "      <th></th>\n",
       "    </tr>\n",
       "  </thead>\n",
       "  <tbody>\n",
       "    <tr>\n",
       "      <th>2022-06-16 19:00:00+00:00</th>\n",
       "      <td>130.10</td>\n",
       "      <td>130.30</td>\n",
       "      <td>129.04</td>\n",
       "      <td>183006</td>\n",
       "      <td>129.54</td>\n",
       "      <td>21078573</td>\n",
       "      <td>129.73</td>\n",
       "      <td>132.94</td>\n",
       "      <td>142.84</td>\n",
       "      <td>26.17</td>\n",
       "      <td>0.70</td>\n",
       "    </tr>\n",
       "    <tr>\n",
       "      <th>2022-06-16 20:00:00+00:00</th>\n",
       "      <td>130.55</td>\n",
       "      <td>131.20</td>\n",
       "      <td>130.05</td>\n",
       "      <td>5773</td>\n",
       "      <td>130.11</td>\n",
       "      <td>25903353</td>\n",
       "      <td>130.06</td>\n",
       "      <td>132.89</td>\n",
       "      <td>142.74</td>\n",
       "      <td>26.53</td>\n",
       "      <td>0.74</td>\n",
       "    </tr>\n",
       "    <tr>\n",
       "      <th>2022-06-16 21:00:00+00:00</th>\n",
       "      <td>130.48</td>\n",
       "      <td>130.53</td>\n",
       "      <td>130.33</td>\n",
       "      <td>2139</td>\n",
       "      <td>130.50</td>\n",
       "      <td>89622</td>\n",
       "      <td>130.43</td>\n",
       "      <td>132.87</td>\n",
       "      <td>142.65</td>\n",
       "      <td>24.84</td>\n",
       "      <td>0.72</td>\n",
       "    </tr>\n",
       "    <tr>\n",
       "      <th>2022-06-16 22:00:00+00:00</th>\n",
       "      <td>130.46</td>\n",
       "      <td>130.80</td>\n",
       "      <td>130.40</td>\n",
       "      <td>1491</td>\n",
       "      <td>130.48</td>\n",
       "      <td>108764</td>\n",
       "      <td>130.56</td>\n",
       "      <td>132.83</td>\n",
       "      <td>142.56</td>\n",
       "      <td>41.54</td>\n",
       "      <td>0.73</td>\n",
       "    </tr>\n",
       "    <tr>\n",
       "      <th>2022-06-16 23:00:00+00:00</th>\n",
       "      <td>130.53</td>\n",
       "      <td>130.60</td>\n",
       "      <td>130.20</td>\n",
       "      <td>1541</td>\n",
       "      <td>130.45</td>\n",
       "      <td>88013</td>\n",
       "      <td>130.38</td>\n",
       "      <td>132.79</td>\n",
       "      <td>142.46</td>\n",
       "      <td>41.62</td>\n",
       "      <td>0.72</td>\n",
       "    </tr>\n",
       "    <tr>\n",
       "      <th>...</th>\n",
       "      <td>...</td>\n",
       "      <td>...</td>\n",
       "      <td>...</td>\n",
       "      <td>...</td>\n",
       "      <td>...</td>\n",
       "      <td>...</td>\n",
       "      <td>...</td>\n",
       "      <td>...</td>\n",
       "      <td>...</td>\n",
       "      <td>...</td>\n",
       "      <td>...</td>\n",
       "    </tr>\n",
       "    <tr>\n",
       "      <th>2025-05-30 19:00:00+00:00</th>\n",
       "      <td>200.65</td>\n",
       "      <td>201.96</td>\n",
       "      <td>199.29</td>\n",
       "      <td>154879</td>\n",
       "      <td>199.32</td>\n",
       "      <td>15011350</td>\n",
       "      <td>200.73</td>\n",
       "      <td>200.72</td>\n",
       "      <td>204.96</td>\n",
       "      <td>56.76</td>\n",
       "      <td>0.85</td>\n",
       "    </tr>\n",
       "    <tr>\n",
       "      <th>2025-05-30 20:00:00+00:00</th>\n",
       "      <td>200.61</td>\n",
       "      <td>201.10</td>\n",
       "      <td>200.20</td>\n",
       "      <td>4475</td>\n",
       "      <td>200.65</td>\n",
       "      <td>29375065</td>\n",
       "      <td>200.85</td>\n",
       "      <td>200.73</td>\n",
       "      <td>204.91</td>\n",
       "      <td>57.38</td>\n",
       "      <td>0.86</td>\n",
       "    </tr>\n",
       "    <tr>\n",
       "      <th>2025-05-30 21:00:00+00:00</th>\n",
       "      <td>200.64</td>\n",
       "      <td>200.65</td>\n",
       "      <td>200.40</td>\n",
       "      <td>700</td>\n",
       "      <td>200.60</td>\n",
       "      <td>162112</td>\n",
       "      <td>200.51</td>\n",
       "      <td>200.73</td>\n",
       "      <td>204.86</td>\n",
       "      <td>59.12</td>\n",
       "      <td>0.87</td>\n",
       "    </tr>\n",
       "    <tr>\n",
       "      <th>2025-05-30 22:00:00+00:00</th>\n",
       "      <td>200.40</td>\n",
       "      <td>200.65</td>\n",
       "      <td>200.40</td>\n",
       "      <td>507</td>\n",
       "      <td>200.60</td>\n",
       "      <td>25292</td>\n",
       "      <td>200.48</td>\n",
       "      <td>200.74</td>\n",
       "      <td>204.80</td>\n",
       "      <td>51.43</td>\n",
       "      <td>0.78</td>\n",
       "    </tr>\n",
       "    <tr>\n",
       "      <th>2025-05-30 23:00:00+00:00</th>\n",
       "      <td>200.29</td>\n",
       "      <td>200.44</td>\n",
       "      <td>200.14</td>\n",
       "      <td>668</td>\n",
       "      <td>200.40</td>\n",
       "      <td>40399</td>\n",
       "      <td>200.26</td>\n",
       "      <td>200.73</td>\n",
       "      <td>204.75</td>\n",
       "      <td>50.61</td>\n",
       "      <td>0.77</td>\n",
       "    </tr>\n",
       "  </tbody>\n",
       "</table>\n",
       "<p>11730 rows × 11 columns</p>\n",
       "</div>"
      ],
      "text/plain": [
       "                            close    high     low  trade_count    open  \\\n",
       "Date                                                                     \n",
       "2022-06-16 19:00:00+00:00  130.10  130.30  129.04       183006  129.54   \n",
       "2022-06-16 20:00:00+00:00  130.55  131.20  130.05         5773  130.11   \n",
       "2022-06-16 21:00:00+00:00  130.48  130.53  130.33         2139  130.50   \n",
       "2022-06-16 22:00:00+00:00  130.46  130.80  130.40         1491  130.48   \n",
       "2022-06-16 23:00:00+00:00  130.53  130.60  130.20         1541  130.45   \n",
       "...                           ...     ...     ...          ...     ...   \n",
       "2025-05-30 19:00:00+00:00  200.65  201.96  199.29       154879  199.32   \n",
       "2025-05-30 20:00:00+00:00  200.61  201.10  200.20         4475  200.65   \n",
       "2025-05-30 21:00:00+00:00  200.64  200.65  200.40          700  200.60   \n",
       "2025-05-30 22:00:00+00:00  200.40  200.65  200.40          507  200.60   \n",
       "2025-05-30 23:00:00+00:00  200.29  200.44  200.14          668  200.40   \n",
       "\n",
       "                             volume    vwap  SMA_50  SMA_200    RSI   ATR  \n",
       "Date                                                                       \n",
       "2022-06-16 19:00:00+00:00  21078573  129.73  132.94   142.84  26.17  0.70  \n",
       "2022-06-16 20:00:00+00:00  25903353  130.06  132.89   142.74  26.53  0.74  \n",
       "2022-06-16 21:00:00+00:00     89622  130.43  132.87   142.65  24.84  0.72  \n",
       "2022-06-16 22:00:00+00:00    108764  130.56  132.83   142.56  41.54  0.73  \n",
       "2022-06-16 23:00:00+00:00     88013  130.38  132.79   142.46  41.62  0.72  \n",
       "...                             ...     ...     ...      ...    ...   ...  \n",
       "2025-05-30 19:00:00+00:00  15011350  200.73  200.72   204.96  56.76  0.85  \n",
       "2025-05-30 20:00:00+00:00  29375065  200.85  200.73   204.91  57.38  0.86  \n",
       "2025-05-30 21:00:00+00:00    162112  200.51  200.73   204.86  59.12  0.87  \n",
       "2025-05-30 22:00:00+00:00     25292  200.48  200.74   204.80  51.43  0.78  \n",
       "2025-05-30 23:00:00+00:00     40399  200.26  200.73   204.75  50.61  0.77  \n",
       "\n",
       "[11730 rows x 11 columns]"
      ]
     },
     "execution_count": 8,
     "metadata": {},
     "output_type": "execute_result"
    }
   ],
   "source": [
    "# Drop missing values\n",
    "df_prices.dropna(inplace = True)\n",
    "\n",
    "# Round the values in the necessary columns to 2 decimal points\n",
    "df_prices[['close', 'high', 'low', 'open', 'vwap','SMA_50', 'SMA_200', 'RSI', 'ATR']] = df_prices[['close', 'high', 'low', 'open', 'vwap','SMA_50', 'SMA_200', 'RSI', 'ATR']].round(2)\n",
    "\n",
    "# display the dataframe\n",
    "df_prices"
   ]
  },
  {
   "cell_type": "markdown",
   "id": "6541ffa3-6fbf-4f29-b60a-42b07ff923dd",
   "metadata": {},
   "source": [
    "## Part 3  - Machine Learining Model\n",
    "\n",
    "A machine learning model will be created to predict the price movement in the hour.\n",
    "\n",
    "The labelling is done in a binary classification model with '1's for the prices going up and '0's for the prices going dowm."
   ]
  },
  {
   "cell_type": "code",
   "execution_count": 9,
   "id": "2b071793-86b0-4c95-a0c3-545af1fff3bc",
   "metadata": {
    "tags": []
   },
   "outputs": [],
   "source": [
    "# Define the label variables with 1 if prices going up and 0 otherwise\n",
    "df_prices['Next_close'] = df_prices['close'].shift(-1)\n",
    "df_prices['Price_variation'] = df_prices['Next_close'] - df_prices['close']\n",
    "df_prices['Label'] = (df_prices['Price_variation'] > 0).astype(int)\n",
    "\n",
    "# Remove the NaNs present in the dataframe\n",
    "df_prices.dropna(inplace = True)"
   ]
  },
  {
   "cell_type": "code",
   "execution_count": 10,
   "id": "ecf03b0a-bd87-4dfe-bb67-2c05762d044d",
   "metadata": {
    "tags": []
   },
   "outputs": [],
   "source": [
    "# Define the data features(X) and labels(y) for machine learning\n",
    "X = df_prices.drop(columns = 'Label', axis = 1)\n",
    "y = df_prices['Label']\n",
    "\n",
    "# Split the data into test and train sets with 75% train and 25% test\n",
    "X_train, X_test, y_train, y_test = train_test_split(X, y, test_size = 0.25)\n"
   ]
  },
  {
   "cell_type": "code",
   "execution_count": 11,
   "id": "8640f52d-dff0-446d-9bc1-d0631f12cf6d",
   "metadata": {
    "tags": []
   },
   "outputs": [],
   "source": [
    "# Initialize StandardScaler\n",
    "X_scaler = StandardScaler()\n",
    "\n",
    "# Fit X_train to scaler\n",
    "X_scaler.fit(X_train)\n",
    "\n",
    "# Apply Scaling as required to the datasets\n",
    "X_train_scaled = X_scaler.transform(X_train)\n",
    "X_test_scaled = X_scaler.transform(X_test)"
   ]
  },
  {
   "cell_type": "code",
   "execution_count": 12,
   "id": "f9422966-5d4f-4120-8fbf-0c43cb9d979a",
   "metadata": {
    "tags": []
   },
   "outputs": [],
   "source": [
    "# Initialize PCA with 3 components\n",
    "pca = PCA(n_components = 3)\n",
    "\n",
    "# Fit pca to the training data and transform both the train and test data sets\n",
    "X_train_pca = pca.fit_transform(X_train_scaled)\n",
    "X_test_pca = pca.transform(X_test_scaled)\n"
   ]
  },
  {
   "cell_type": "code",
   "execution_count": 13,
   "id": "f77cd6a7-fcf9-48ad-9195-fb7e443dbf86",
   "metadata": {
    "tags": []
   },
   "outputs": [
    {
     "data": {
      "text/html": [
       "<style>#sk-container-id-1 {color: black;}#sk-container-id-1 pre{padding: 0;}#sk-container-id-1 div.sk-toggleable {background-color: white;}#sk-container-id-1 label.sk-toggleable__label {cursor: pointer;display: block;width: 100%;margin-bottom: 0;padding: 0.3em;box-sizing: border-box;text-align: center;}#sk-container-id-1 label.sk-toggleable__label-arrow:before {content: \"▸\";float: left;margin-right: 0.25em;color: #696969;}#sk-container-id-1 label.sk-toggleable__label-arrow:hover:before {color: black;}#sk-container-id-1 div.sk-estimator:hover label.sk-toggleable__label-arrow:before {color: black;}#sk-container-id-1 div.sk-toggleable__content {max-height: 0;max-width: 0;overflow: hidden;text-align: left;background-color: #f0f8ff;}#sk-container-id-1 div.sk-toggleable__content pre {margin: 0.2em;color: black;border-radius: 0.25em;background-color: #f0f8ff;}#sk-container-id-1 input.sk-toggleable__control:checked~div.sk-toggleable__content {max-height: 200px;max-width: 100%;overflow: auto;}#sk-container-id-1 input.sk-toggleable__control:checked~label.sk-toggleable__label-arrow:before {content: \"▾\";}#sk-container-id-1 div.sk-estimator input.sk-toggleable__control:checked~label.sk-toggleable__label {background-color: #d4ebff;}#sk-container-id-1 div.sk-label input.sk-toggleable__control:checked~label.sk-toggleable__label {background-color: #d4ebff;}#sk-container-id-1 input.sk-hidden--visually {border: 0;clip: rect(1px 1px 1px 1px);clip: rect(1px, 1px, 1px, 1px);height: 1px;margin: -1px;overflow: hidden;padding: 0;position: absolute;width: 1px;}#sk-container-id-1 div.sk-estimator {font-family: monospace;background-color: #f0f8ff;border: 1px dotted black;border-radius: 0.25em;box-sizing: border-box;margin-bottom: 0.5em;}#sk-container-id-1 div.sk-estimator:hover {background-color: #d4ebff;}#sk-container-id-1 div.sk-parallel-item::after {content: \"\";width: 100%;border-bottom: 1px solid gray;flex-grow: 1;}#sk-container-id-1 div.sk-label:hover label.sk-toggleable__label {background-color: #d4ebff;}#sk-container-id-1 div.sk-serial::before {content: \"\";position: absolute;border-left: 1px solid gray;box-sizing: border-box;top: 0;bottom: 0;left: 50%;z-index: 0;}#sk-container-id-1 div.sk-serial {display: flex;flex-direction: column;align-items: center;background-color: white;padding-right: 0.2em;padding-left: 0.2em;position: relative;}#sk-container-id-1 div.sk-item {position: relative;z-index: 1;}#sk-container-id-1 div.sk-parallel {display: flex;align-items: stretch;justify-content: center;background-color: white;position: relative;}#sk-container-id-1 div.sk-item::before, #sk-container-id-1 div.sk-parallel-item::before {content: \"\";position: absolute;border-left: 1px solid gray;box-sizing: border-box;top: 0;bottom: 0;left: 50%;z-index: -1;}#sk-container-id-1 div.sk-parallel-item {display: flex;flex-direction: column;z-index: 1;position: relative;background-color: white;}#sk-container-id-1 div.sk-parallel-item:first-child::after {align-self: flex-end;width: 50%;}#sk-container-id-1 div.sk-parallel-item:last-child::after {align-self: flex-start;width: 50%;}#sk-container-id-1 div.sk-parallel-item:only-child::after {width: 0;}#sk-container-id-1 div.sk-dashed-wrapped {border: 1px dashed gray;margin: 0 0.4em 0.5em 0.4em;box-sizing: border-box;padding-bottom: 0.4em;background-color: white;}#sk-container-id-1 div.sk-label label {font-family: monospace;font-weight: bold;display: inline-block;line-height: 1.2em;}#sk-container-id-1 div.sk-label-container {text-align: center;}#sk-container-id-1 div.sk-container {/* jupyter's `normalize.less` sets `[hidden] { display: none; }` but bootstrap.min.css set `[hidden] { display: none !important; }` so we also need the `!important` here to be able to override the default hidden behavior on the sphinx rendered scikit-learn.org. See: https://github.com/scikit-learn/scikit-learn/issues/21755 */display: inline-block !important;position: relative;}#sk-container-id-1 div.sk-text-repr-fallback {display: none;}</style><div id=\"sk-container-id-1\" class=\"sk-top-container\"><div class=\"sk-text-repr-fallback\"><pre>GradientBoostingClassifier(max_depth=5, n_estimators=300, random_state=1)</pre><b>In a Jupyter environment, please rerun this cell to show the HTML representation or trust the notebook. <br />On GitHub, the HTML representation is unable to render, please try loading this page with nbviewer.org.</b></div><div class=\"sk-container\" hidden><div class=\"sk-item\"><div class=\"sk-estimator sk-toggleable\"><input class=\"sk-toggleable__control sk-hidden--visually\" id=\"sk-estimator-id-1\" type=\"checkbox\" checked><label for=\"sk-estimator-id-1\" class=\"sk-toggleable__label sk-toggleable__label-arrow\">GradientBoostingClassifier</label><div class=\"sk-toggleable__content\"><pre>GradientBoostingClassifier(max_depth=5, n_estimators=300, random_state=1)</pre></div></div></div></div></div>"
      ],
      "text/plain": [
       "GradientBoostingClassifier(max_depth=5, n_estimators=300, random_state=1)"
      ]
     },
     "execution_count": 13,
     "metadata": {},
     "output_type": "execute_result"
    }
   ],
   "source": [
    "# Initialize the model\n",
    "gb_model = GradientBoostingClassifier(n_estimators = 300, learning_rate = 0.1, max_depth = 5, random_state = 1)\n",
    "\n",
    "# Fit the model with the training data\n",
    "gb_model.fit(X_train_pca, y_train)"
   ]
  },
  {
   "cell_type": "code",
   "execution_count": 14,
   "id": "3f3cbcc7-b3b4-4235-83a5-7adbd32d7fed",
   "metadata": {
    "tags": []
   },
   "outputs": [
    {
     "name": "stdout",
     "output_type": "stream",
     "text": [
      "              precision    recall  f1-score   support\n",
      "\n",
      "           0       0.51      0.53      0.52      1451\n",
      "           1       0.52      0.49      0.51      1482\n",
      "\n",
      "    accuracy                           0.51      2933\n",
      "   macro avg       0.51      0.51      0.51      2933\n",
      "weighted avg       0.51      0.51      0.51      2933\n",
      "\n"
     ]
    }
   ],
   "source": [
    "# Make predictions on the X_test_pca data set with the model\n",
    "y_pred = gb_model.predict(X_test_pca)\n",
    "\n",
    "# Display the classification report comparing the y_test and predicted labels\n",
    "print(classification_report(y_test, y_pred))"
   ]
  },
  {
   "cell_type": "markdown",
   "id": "d242e9ff-4ec1-433b-a639-a6768a8bddcb",
   "metadata": {},
   "source": [
    "## Part 4 Backtesting Strategy\n",
    "\n",
    "The model predicts the movement of the price the next day. It wil be subjected to backtesting on the strategy to buy if the model predicts 1 and sell or hold cash if it predicts 0."
   ]
  },
  {
   "cell_type": "code",
   "execution_count": 15,
   "id": "09e10834-f4a3-4501-acf7-eb719412ef2f",
   "metadata": {
    "tags": []
   },
   "outputs": [
    {
     "data": {
      "text/html": [
       "<div>\n",
       "<style scoped>\n",
       "    .dataframe tbody tr th:only-of-type {\n",
       "        vertical-align: middle;\n",
       "    }\n",
       "\n",
       "    .dataframe tbody tr th {\n",
       "        vertical-align: top;\n",
       "    }\n",
       "\n",
       "    .dataframe thead th {\n",
       "        text-align: right;\n",
       "    }\n",
       "</style>\n",
       "<table border=\"1\" class=\"dataframe\">\n",
       "  <thead>\n",
       "    <tr style=\"text-align: right;\">\n",
       "      <th></th>\n",
       "      <th>Porfolio_Total</th>\n",
       "    </tr>\n",
       "    <tr>\n",
       "      <th>Date</th>\n",
       "      <th></th>\n",
       "    </tr>\n",
       "  </thead>\n",
       "  <tbody>\n",
       "    <tr>\n",
       "      <th>2024-01-24 21:00:00+00:00</th>\n",
       "      <td>100000.00</td>\n",
       "    </tr>\n",
       "    <tr>\n",
       "      <th>2024-10-22 09:00:00+00:00</th>\n",
       "      <td>100000.00</td>\n",
       "    </tr>\n",
       "    <tr>\n",
       "      <th>2024-01-24 11:00:00+00:00</th>\n",
       "      <td>83133.97</td>\n",
       "    </tr>\n",
       "    <tr>\n",
       "      <th>2024-08-01 23:00:00+00:00</th>\n",
       "      <td>93482.61</td>\n",
       "    </tr>\n",
       "    <tr>\n",
       "      <th>2024-05-10 11:00:00+00:00</th>\n",
       "      <td>78664.17</td>\n",
       "    </tr>\n",
       "  </tbody>\n",
       "</table>\n",
       "</div>"
      ],
      "text/plain": [
       "                           Porfolio_Total\n",
       "Date                                     \n",
       "2024-01-24 21:00:00+00:00       100000.00\n",
       "2024-10-22 09:00:00+00:00       100000.00\n",
       "2024-01-24 11:00:00+00:00        83133.97\n",
       "2024-08-01 23:00:00+00:00        93482.61\n",
       "2024-05-10 11:00:00+00:00        78664.17"
      ]
     },
     "execution_count": 15,
     "metadata": {},
     "output_type": "execute_result"
    }
   ],
   "source": [
    "# Initialize the initial capital to 100000 \n",
    "capital = 100000\n",
    "\n",
    "# Initialize postion as 0 to show there is no standing position at the start\n",
    "position = 0\n",
    "\n",
    "# Initialize a list to store the value of the portfolio\n",
    "portfolio_value = []\n",
    "\n",
    "\n",
    "# Iterate through the data\n",
    "for i in range(len(X_test)):\n",
    "    \n",
    "    # Condition to buy if model precits 1\n",
    "    if y_pred[i] == 1:\n",
    "        \n",
    "        if position == 0:\n",
    "            \n",
    "            # Buy maximum shares with the capital available\n",
    "            position = capital / X_test.iloc[i]['close']\n",
    "            \n",
    "            # reduce the corresponding value from the capital\n",
    "            capital -= position * X_test.iloc[i]['close']\n",
    "            \n",
    "    # Condition to sell if model predicts 0\n",
    "    elif y_pred[i] == 0 and position > 0:\n",
    "\n",
    "        # Sell the postion and add the funds to the capital\n",
    "        capital += position * X_test.iloc[i]['close']\n",
    "\n",
    "        # Reset the position to 0 for the next iteration\n",
    "        position = 0\n",
    "        \n",
    "    # track the portfolio value at the end of each time span of the datapoints\n",
    "    portfolio_value.append(round((capital + (position * X_test.iloc[i]['close'])), 2))\n",
    "\n",
    "# Create a dataframe with the portfolio value\n",
    "df_portfolio_value = pd.DataFrame(portfolio_value, index = X_test.index, columns = ['Porfolio_Total'])\n",
    "            \n",
    "df_portfolio_value.head() "
   ]
  },
  {
   "cell_type": "code",
   "execution_count": 16,
   "id": "4df9a466-55a6-4ca7-9525-2f4e1a566263",
   "metadata": {
    "tags": []
   },
   "outputs": [
    {
     "data": {
      "text/html": [
       "<div>\n",
       "<style scoped>\n",
       "    .dataframe tbody tr th:only-of-type {\n",
       "        vertical-align: middle;\n",
       "    }\n",
       "\n",
       "    .dataframe tbody tr th {\n",
       "        vertical-align: top;\n",
       "    }\n",
       "\n",
       "    .dataframe thead th {\n",
       "        text-align: right;\n",
       "    }\n",
       "</style>\n",
       "<table border=\"1\" class=\"dataframe\">\n",
       "  <thead>\n",
       "    <tr style=\"text-align: right;\">\n",
       "      <th></th>\n",
       "      <th>Porfolio_Total</th>\n",
       "      <th>Returns</th>\n",
       "    </tr>\n",
       "    <tr>\n",
       "      <th>Date</th>\n",
       "      <th></th>\n",
       "      <th></th>\n",
       "    </tr>\n",
       "  </thead>\n",
       "  <tbody>\n",
       "    <tr>\n",
       "      <th>2024-10-22 09:00:00+00:00</th>\n",
       "      <td>100000.00</td>\n",
       "      <td>0.000000</td>\n",
       "    </tr>\n",
       "    <tr>\n",
       "      <th>2024-01-24 11:00:00+00:00</th>\n",
       "      <td>83133.97</td>\n",
       "      <td>-0.168660</td>\n",
       "    </tr>\n",
       "    <tr>\n",
       "      <th>2024-08-01 23:00:00+00:00</th>\n",
       "      <td>93482.61</td>\n",
       "      <td>0.124481</td>\n",
       "    </tr>\n",
       "    <tr>\n",
       "      <th>2024-05-10 11:00:00+00:00</th>\n",
       "      <td>78664.17</td>\n",
       "      <td>-0.158515</td>\n",
       "    </tr>\n",
       "    <tr>\n",
       "      <th>2022-12-27 21:00:00+00:00</th>\n",
       "      <td>55348.86</td>\n",
       "      <td>-0.296390</td>\n",
       "    </tr>\n",
       "  </tbody>\n",
       "</table>\n",
       "</div>"
      ],
      "text/plain": [
       "                           Porfolio_Total   Returns\n",
       "Date                                               \n",
       "2024-10-22 09:00:00+00:00       100000.00  0.000000\n",
       "2024-01-24 11:00:00+00:00        83133.97 -0.168660\n",
       "2024-08-01 23:00:00+00:00        93482.61  0.124481\n",
       "2024-05-10 11:00:00+00:00        78664.17 -0.158515\n",
       "2022-12-27 21:00:00+00:00        55348.86 -0.296390"
      ]
     },
     "execution_count": 16,
     "metadata": {},
     "output_type": "execute_result"
    }
   ],
   "source": [
    "df_portfolio_value['Returns'] = df_portfolio_value['Porfolio_Total'].pct_change()\n",
    "df_portfolio_value.dropna(inplace = True)\n",
    "df_portfolio_value.head()"
   ]
  },
  {
   "cell_type": "code",
   "execution_count": 17,
   "id": "3c8e1276-1946-4667-9db6-5f208e5450a3",
   "metadata": {
    "tags": []
   },
   "outputs": [
    {
     "data": {
      "text/html": [
       "<div>\n",
       "<style scoped>\n",
       "    .dataframe tbody tr th:only-of-type {\n",
       "        vertical-align: middle;\n",
       "    }\n",
       "\n",
       "    .dataframe tbody tr th {\n",
       "        vertical-align: top;\n",
       "    }\n",
       "\n",
       "    .dataframe thead th {\n",
       "        text-align: right;\n",
       "    }\n",
       "</style>\n",
       "<table border=\"1\" class=\"dataframe\">\n",
       "  <thead>\n",
       "    <tr style=\"text-align: right;\">\n",
       "      <th></th>\n",
       "      <th>Porfolio_Total</th>\n",
       "      <th>Returns</th>\n",
       "      <th>Cumulative_Returns</th>\n",
       "    </tr>\n",
       "    <tr>\n",
       "      <th>Date</th>\n",
       "      <th></th>\n",
       "      <th></th>\n",
       "      <th></th>\n",
       "    </tr>\n",
       "  </thead>\n",
       "  <tbody>\n",
       "    <tr>\n",
       "      <th>2024-10-22 09:00:00+00:00</th>\n",
       "      <td>100000.00</td>\n",
       "      <td>0.000000</td>\n",
       "      <td>0.000000</td>\n",
       "    </tr>\n",
       "    <tr>\n",
       "      <th>2024-01-24 11:00:00+00:00</th>\n",
       "      <td>83133.97</td>\n",
       "      <td>-0.168660</td>\n",
       "      <td>-0.168660</td>\n",
       "    </tr>\n",
       "    <tr>\n",
       "      <th>2024-08-01 23:00:00+00:00</th>\n",
       "      <td>93482.61</td>\n",
       "      <td>0.124481</td>\n",
       "      <td>-0.065174</td>\n",
       "    </tr>\n",
       "    <tr>\n",
       "      <th>2024-05-10 11:00:00+00:00</th>\n",
       "      <td>78664.17</td>\n",
       "      <td>-0.158515</td>\n",
       "      <td>-0.213358</td>\n",
       "    </tr>\n",
       "    <tr>\n",
       "      <th>2022-12-27 21:00:00+00:00</th>\n",
       "      <td>55348.86</td>\n",
       "      <td>-0.296390</td>\n",
       "      <td>-0.446511</td>\n",
       "    </tr>\n",
       "  </tbody>\n",
       "</table>\n",
       "</div>"
      ],
      "text/plain": [
       "                           Porfolio_Total   Returns  Cumulative_Returns\n",
       "Date                                                                   \n",
       "2024-10-22 09:00:00+00:00       100000.00  0.000000            0.000000\n",
       "2024-01-24 11:00:00+00:00        83133.97 -0.168660           -0.168660\n",
       "2024-08-01 23:00:00+00:00        93482.61  0.124481           -0.065174\n",
       "2024-05-10 11:00:00+00:00        78664.17 -0.158515           -0.213358\n",
       "2022-12-27 21:00:00+00:00        55348.86 -0.296390           -0.446511"
      ]
     },
     "execution_count": 17,
     "metadata": {},
     "output_type": "execute_result"
    }
   ],
   "source": [
    "df_portfolio_value['Cumulative_Returns'] = (1 + df_portfolio_value['Returns']).cumprod() - 1\n",
    "df_portfolio_value.head()"
   ]
  },
  {
   "cell_type": "code",
   "execution_count": 18,
   "id": "f0d76fe3-557d-4453-a1f7-ec4721a3605e",
   "metadata": {
    "tags": []
   },
   "outputs": [
    {
     "data": {
      "text/plain": [
       "<Axes: xlabel='Date'>"
      ]
     },
     "execution_count": 18,
     "metadata": {},
     "output_type": "execute_result"
    },
    {
     "data": {
      "image/png": "[encoded data removed]",
      "text/plain": [
       "<Figure size 640x480 with 1 Axes>"
      ]
     },
     "metadata": {},
     "output_type": "display_data"
    }
   ],
   "source": [
    "df_portfolio_value['Cumulative_Returns'].plot()"
   ]
  },
  {
   "cell_type": "code",
   "execution_count": null,
   "id": "41a05a66-2d83-4175-927f-bb4562a299b8",
   "metadata": {},
   "outputs": [],
   "source": []
  }
 ],
 "metadata": {
  "kernelspec": {
   "display_name": "Python 3 (ipykernel)",
   "language": "python",
   "name": "python3"
  },
  "language_info": {
   "codemirror_mode": {
    "name": "ipython",
    "version": 3
   },
   "file_extension": ".py",
   "mimetype": "text/x-python",
   "name": "python",
   "nbconvert_exporter": "python",
   "pygments_lexer": "ipython3",
   "version": "3.10.13"
  }
 },
 "nbformat": 4,
 "nbformat_minor": 5
}
